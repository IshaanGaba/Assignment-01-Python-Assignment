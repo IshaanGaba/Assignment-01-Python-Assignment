{
  "nbformat": 4,
  "nbformat_minor": 0,
  "metadata": {
    "colab": {
      "provenance": [],
      "authorship_tag": "ABX9TyNhWhjP6OfX4IiiXiy694X2",
      "include_colab_link": true
    },
    "kernelspec": {
      "name": "python3",
      "display_name": "Python 3"
    },
    "language_info": {
      "name": "python"
    }
  },
  "cells": [
    {
      "cell_type": "markdown",
      "metadata": {
        "id": "view-in-github",
        "colab_type": "text"
      },
      "source": [
        "<a href=\"https://colab.research.google.com/github/IshaanGaba/Assignment-01-Python-Assignment/blob/main/py_assignment_01.ipynb\" target=\"_parent\"><img src=\"https://colab.research.google.com/assets/colab-badge.svg\" alt=\"Open In Colab\"/></a>"
      ]
    },
    {
      "cell_type": "code",
      "execution_count": null,
      "metadata": {
        "id": "zIfw7hzwXjC0"
      },
      "outputs": [],
      "source": [
        "# Q1. L is a list defined as L= [11, 12, 13, 14].\n",
        "# (i) WAP to add 50 and 60 to L. \n",
        "# (ii) WAP to remove 11 and 13from L.\n",
        "# (iii) WAP to sort L in ascending order.\n",
        "# (iv) WAP to sort L in descending order.\n",
        "# (v) WAP to search for 13 in L.\n",
        "# (vi) WAP to count the number of elements present in L.\n",
        "# (vii) WAP to sum all the elements in L.\n",
        "# (viii) WAP to sum all ODD numbers in L.\n",
        "# (ix) WAP to sum all EVEN numbers in L.\n",
        "# (x) WAP to sum all PRIME numbers in L.\n",
        "# (xi) WAP to clear all the elements in L.\n",
        "# (xii) WAP to delete L."
      ]
    },
    {
      "cell_type": "code",
      "source": [
        "l=[11,12,13,14]\n",
        "l.append(50)\n",
        "l.append(60)\n",
        "l"
      ],
      "metadata": {
        "colab": {
          "base_uri": "https://localhost:8080/"
        },
        "id": "6fCt7O9FX0Aa",
        "outputId": "cbe41c05-4d41-4d95-ce3a-93cbdcb538a7"
      },
      "execution_count": 9,
      "outputs": [
        {
          "output_type": "execute_result",
          "data": {
            "text/plain": [
              "[11, 12, 13, 14, 50, 60]"
            ]
          },
          "metadata": {},
          "execution_count": 9
        }
      ]
    },
    {
      "cell_type": "code",
      "source": [
        "l.remove(11)\n",
        "l.remove(13)\n",
        "l"
      ],
      "metadata": {
        "colab": {
          "base_uri": "https://localhost:8080/"
        },
        "id": "Z7I6LLYnX_w2",
        "outputId": "043fcbcd-3390-479e-baa0-54f45a4e6901"
      },
      "execution_count": 10,
      "outputs": [
        {
          "output_type": "execute_result",
          "data": {
            "text/plain": [
              "[12, 14, 50, 60]"
            ]
          },
          "metadata": {},
          "execution_count": 10
        }
      ]
    },
    {
      "cell_type": "code",
      "source": [
        "l.sort\n",
        "l"
      ],
      "metadata": {
        "colab": {
          "base_uri": "https://localhost:8080/"
        },
        "id": "DQqhA2mEZGpT",
        "outputId": "fc86744a-4a7a-4421-91d0-b4554ddce9d9"
      },
      "execution_count": 12,
      "outputs": [
        {
          "output_type": "execute_result",
          "data": {
            "text/plain": [
              "[12, 14, 50, 60]"
            ]
          },
          "metadata": {},
          "execution_count": 12
        }
      ]
    },
    {
      "cell_type": "code",
      "source": [
        "l.sort(reverse=True)\n",
        "l"
      ],
      "metadata": {
        "colab": {
          "base_uri": "https://localhost:8080/"
        },
        "id": "O3gE9_RSZKDP",
        "outputId": "1e457f4f-04e3-4a59-b77b-1d17cfbe5555"
      },
      "execution_count": 14,
      "outputs": [
        {
          "output_type": "execute_result",
          "data": {
            "text/plain": [
              "[60, 50, 14, 12]"
            ]
          },
          "metadata": {},
          "execution_count": 14
        }
      ]
    },
    {
      "cell_type": "code",
      "source": [
        "# 13 in l\n",
        "f=0\n",
        "for s in l:\n",
        "  if(s==13):\n",
        "    f=1\n",
        "    break\n",
        "if(f==1):\n",
        "  print(\"present\")\n",
        "else:\n",
        "  print(\" not present\")\n"
      ],
      "metadata": {
        "colab": {
          "base_uri": "https://localhost:8080/"
        },
        "id": "YU7RS0gVZOOP",
        "outputId": "0d949352-e661-402b-8b31-ec560ccaa0da"
      },
      "execution_count": 17,
      "outputs": [
        {
          "output_type": "stream",
          "name": "stdout",
          "text": [
            " not present\n"
          ]
        }
      ]
    },
    {
      "cell_type": "code",
      "source": [
        "#len(l)\n",
        "s=0\n",
        "for i in l:\n",
        "  s=s+1\n",
        "print(s)"
      ],
      "metadata": {
        "colab": {
          "base_uri": "https://localhost:8080/"
        },
        "id": "cbxF-0g_Z3Cg",
        "outputId": "80cac8be-4387-4d00-d5ae-15e0895f5a36"
      },
      "execution_count": 20,
      "outputs": [
        {
          "output_type": "stream",
          "name": "stdout",
          "text": [
            "4\n"
          ]
        }
      ]
    },
    {
      "cell_type": "code",
      "source": [
        "#print(sum(l))\n",
        "s=0;\n",
        "for i in l:\n",
        "  s+=i\n",
        "print(s)"
      ],
      "metadata": {
        "colab": {
          "base_uri": "https://localhost:8080/"
        },
        "id": "F65m9dpmaLHK",
        "outputId": "dc708849-7559-42a6-c845-087130933d91"
      },
      "execution_count": 25,
      "outputs": [
        {
          "output_type": "stream",
          "name": "stdout",
          "text": [
            "136\n"
          ]
        }
      ]
    },
    {
      "cell_type": "code",
      "source": [
        "e=0\n",
        "o=0\n",
        "for i in l:\n",
        "  if(i%2==0):\n",
        "    e=e+i\n",
        "  else:\n",
        "    o+=i\n",
        "print(\"sum even = \",e)\n",
        "print(\"sum odd = \",o)"
      ],
      "metadata": {
        "colab": {
          "base_uri": "https://localhost:8080/"
        },
        "id": "k4vWY7fDakOc",
        "outputId": "907501ae-fb5c-4c12-83a5-28dd01b8c399"
      },
      "execution_count": 26,
      "outputs": [
        {
          "output_type": "stream",
          "name": "stdout",
          "text": [
            "sum even =  136\n",
            "sum odd =  0\n"
          ]
        }
      ]
    },
    {
      "cell_type": "code",
      "source": [
        "def prime(n):\n",
        "  for i in range(2,n//2+1):\n",
        "    if(n%i==0):\n",
        "      return 0\n",
        "  return 1\n",
        "s=0\n",
        "for i in l:\n",
        "  if(prime(i)):\n",
        "    s=s+i\n",
        "print(\"prime sum\",s)"
      ],
      "metadata": {
        "colab": {
          "base_uri": "https://localhost:8080/"
        },
        "id": "29_sGrvlbCrd",
        "outputId": "ebfe2ea7-5a8d-439c-8e6c-4bfdbf856e60"
      },
      "execution_count": 28,
      "outputs": [
        {
          "output_type": "stream",
          "name": "stdout",
          "text": [
            "prime sum 0\n"
          ]
        }
      ]
    },
    {
      "cell_type": "code",
      "source": [
        "l.clear()"
      ],
      "metadata": {
        "id": "DH_jRrdjbmDv"
      },
      "execution_count": 29,
      "outputs": []
    },
    {
      "cell_type": "code",
      "source": [
        "l"
      ],
      "metadata": {
        "colab": {
          "base_uri": "https://localhost:8080/"
        },
        "id": "R4GFzudIbpE4",
        "outputId": "f26950f1-9e09-43ae-e251-1be155489c24"
      },
      "execution_count": 30,
      "outputs": [
        {
          "output_type": "execute_result",
          "data": {
            "text/plain": [
              "[]"
            ]
          },
          "metadata": {},
          "execution_count": 30
        }
      ]
    },
    {
      "cell_type": "code",
      "source": [
        "del l"
      ],
      "metadata": {
        "id": "YUjqjqIxbrtC"
      },
      "execution_count": 37,
      "outputs": []
    },
    {
      "cell_type": "code",
      "source": [
        "# Q2. D is a dictionary defined as D= {1:5.6, 2:7.8, 3:6.6, 4:8.7, 5:7.7}.\n",
        "# (i) WAP to add new entry in D; key=8 and value is 8.8\n",
        "# (ii) WAP to remove key=2.\n",
        "# (iii) WAP to check weather 6 key is present in D.\n",
        "# (iv) WAP to count the number of elements present in D.\n",
        "# (v) WAP to add all the values present D.\n",
        "# (vi) WAP to update the value of 3 to 7.1.\n",
        "# (vii) WAP to clear the dictionary."
      ],
      "metadata": {
        "id": "38Yy7Ijqb_UM"
      },
      "execution_count": null,
      "outputs": []
    },
    {
      "cell_type": "code",
      "source": [
        "d={1:5.6, 2:7.8, 3:6.6, 4:8.7, 5:7.7}\n",
        "d"
      ],
      "metadata": {
        "colab": {
          "base_uri": "https://localhost:8080/"
        },
        "id": "ePbO9F_ocJbO",
        "outputId": "b9fc71f3-606b-4417-8420-85156a506237"
      },
      "execution_count": 44,
      "outputs": [
        {
          "output_type": "execute_result",
          "data": {
            "text/plain": [
              "{1: 5.6, 2: 7.8, 3: 6.6, 4: 8.7, 5: 7.7}"
            ]
          },
          "metadata": {},
          "execution_count": 44
        }
      ]
    },
    {
      "cell_type": "code",
      "source": [
        "d[8]=8.8\n",
        "d"
      ],
      "metadata": {
        "colab": {
          "base_uri": "https://localhost:8080/"
        },
        "id": "Vts-qvIfc0d6",
        "outputId": "22803d6c-fab6-44da-cce6-b8d4aae62c45"
      },
      "execution_count": 45,
      "outputs": [
        {
          "output_type": "execute_result",
          "data": {
            "text/plain": [
              "{1: 5.6, 2: 7.8, 3: 6.6, 4: 8.7, 5: 7.7, 8: 8.8}"
            ]
          },
          "metadata": {},
          "execution_count": 45
        }
      ]
    },
    {
      "cell_type": "code",
      "source": [
        "del d[2]\n",
        "print(d)"
      ],
      "metadata": {
        "colab": {
          "base_uri": "https://localhost:8080/"
        },
        "id": "NzUsDp0OcRkB",
        "outputId": "3d2c31d9-1589-488d-8c29-c8cf8b997486"
      },
      "execution_count": 46,
      "outputs": [
        {
          "output_type": "stream",
          "name": "stdout",
          "text": [
            "{1: 5.6, 3: 6.6, 4: 8.7, 5: 7.7, 8: 8.8}\n"
          ]
        }
      ]
    },
    {
      "cell_type": "code",
      "source": [
        "#6 in d\n",
        "f=0\n",
        "for s in d:\n",
        "  if(s==6):\n",
        "    f=1\n",
        "    break\n",
        "if(f==1):\n",
        "  print(\"present\")\n",
        "else:\n",
        "  print(\" not present\")"
      ],
      "metadata": {
        "colab": {
          "base_uri": "https://localhost:8080/"
        },
        "id": "qmQ7ABqccy1U",
        "outputId": "49f6bea7-cd58-4252-b313-a4cb79b32df1"
      },
      "execution_count": 49,
      "outputs": [
        {
          "output_type": "stream",
          "name": "stdout",
          "text": [
            " not present\n"
          ]
        }
      ]
    },
    {
      "cell_type": "code",
      "source": [
        "#len(d)\n",
        "s=0\n",
        "for i in d:\n",
        "  s+=1\n",
        "print(s)"
      ],
      "metadata": {
        "colab": {
          "base_uri": "https://localhost:8080/"
        },
        "id": "O1vBZUImdUz1",
        "outputId": "230b7c18-c2e5-4c40-ef67-b310b5b0b5de"
      },
      "execution_count": 51,
      "outputs": [
        {
          "output_type": "stream",
          "name": "stdout",
          "text": [
            "5\n"
          ]
        }
      ]
    },
    {
      "cell_type": "code",
      "source": [
        "s=0\n",
        "for i in d:\n",
        "  s+=d[i]\n",
        "print(\"sum is \",s)"
      ],
      "metadata": {
        "colab": {
          "base_uri": "https://localhost:8080/"
        },
        "id": "P4rnrm7Xdeam",
        "outputId": "90abd848-681e-4e89-92f6-c3461f03e768"
      },
      "execution_count": 52,
      "outputs": [
        {
          "output_type": "stream",
          "name": "stdout",
          "text": [
            "sum is  37.4\n"
          ]
        }
      ]
    },
    {
      "cell_type": "code",
      "source": [
        "d[3]=7.1\n",
        "d"
      ],
      "metadata": {
        "colab": {
          "base_uri": "https://localhost:8080/"
        },
        "id": "5TU7t1NudrKC",
        "outputId": "1c721298-4225-413a-ae69-1ea9960e258d"
      },
      "execution_count": 53,
      "outputs": [
        {
          "output_type": "execute_result",
          "data": {
            "text/plain": [
              "{1: 5.6, 3: 7.1, 4: 8.7, 5: 7.7, 8: 8.8}"
            ]
          },
          "metadata": {},
          "execution_count": 53
        }
      ]
    },
    {
      "cell_type": "code",
      "source": [
        "d.clear()"
      ],
      "metadata": {
        "id": "xmcBMWSjdq9F"
      },
      "execution_count": 56,
      "outputs": []
    },
    {
      "cell_type": "code",
      "source": [
        "d"
      ],
      "metadata": {
        "colab": {
          "base_uri": "https://localhost:8080/"
        },
        "id": "gSxRoZQpd4RW",
        "outputId": "eb2fa25a-f783-456b-8caf-4f79e193bd9c"
      },
      "execution_count": 57,
      "outputs": [
        {
          "output_type": "execute_result",
          "data": {
            "text/plain": [
              "{}"
            ]
          },
          "metadata": {},
          "execution_count": 57
        }
      ]
    },
    {
      "cell_type": "code",
      "source": [
        "# Q3. S1 is a set defined as S1= [10, 20, 30, 40, 50, 60].\n",
        "#  S2 is a set defined as S2= [40, 50, 60, 70, 80, 90].\n",
        "# (i) WAP to add 55 and 66 in Set S1.\n",
        "# (ii) WAP to remove 10 and 30 from Set S1.\n",
        "# (iii) WAP to check whether 40 is present in S1.\n",
        "# (iv) WAP to find the union between S1 and S2.\n",
        "# (v) WAP to find the intersection between S1 and S2.\n",
        "# (vi) WAP to find the S1 - S2."
      ],
      "metadata": {
        "id": "XB2RL8TJd-NI"
      },
      "execution_count": null,
      "outputs": []
    },
    {
      "cell_type": "code",
      "source": [
        "S1= [10, 20, 30, 40, 50, 60]\n",
        "S2= [40, 50, 60, 70, 80, 90]"
      ],
      "metadata": {
        "id": "9lUBwEcueSlr"
      },
      "execution_count": 59,
      "outputs": []
    },
    {
      "cell_type": "code",
      "source": [
        "S1=set(S1)\n",
        "S2=set(S2)\n",
        "print(S1)\n",
        "print(S2)"
      ],
      "metadata": {
        "colab": {
          "base_uri": "https://localhost:8080/"
        },
        "id": "CpB9Z4q7eA6b",
        "outputId": "bf459cac-b400-4c8c-be15-bc50e6e02390"
      },
      "execution_count": 62,
      "outputs": [
        {
          "output_type": "stream",
          "name": "stdout",
          "text": [
            "{40, 10, 50, 20, 60, 30}\n",
            "{70, 40, 80, 50, 90, 60}\n"
          ]
        }
      ]
    },
    {
      "cell_type": "code",
      "source": [
        "S1.add(55)\n",
        "S1.add(66)\n",
        "S1"
      ],
      "metadata": {
        "colab": {
          "base_uri": "https://localhost:8080/"
        },
        "id": "5xGkE6_ieswP",
        "outputId": "fbc07127-610a-44a1-a10b-dc59b140b5a0"
      },
      "execution_count": 63,
      "outputs": [
        {
          "output_type": "execute_result",
          "data": {
            "text/plain": [
              "{10, 20, 30, 40, 50, 55, 60, 66}"
            ]
          },
          "metadata": {},
          "execution_count": 63
        }
      ]
    },
    {
      "cell_type": "code",
      "source": [
        "S1.remove(10)\n",
        "S1.remove(30)\n",
        "S1"
      ],
      "metadata": {
        "colab": {
          "base_uri": "https://localhost:8080/"
        },
        "id": "sGYzdx4EeznG",
        "outputId": "f66b854e-056d-4946-b24d-a99566e129e8"
      },
      "execution_count": 64,
      "outputs": [
        {
          "output_type": "execute_result",
          "data": {
            "text/plain": [
              "{20, 40, 50, 55, 60, 66}"
            ]
          },
          "metadata": {},
          "execution_count": 64
        }
      ]
    },
    {
      "cell_type": "code",
      "source": [
        "40 in S1"
      ],
      "metadata": {
        "colab": {
          "base_uri": "https://localhost:8080/"
        },
        "id": "c9CSASlbe7kP",
        "outputId": "04a94466-af17-43fd-b726-e857d2a6f82c"
      },
      "execution_count": 66,
      "outputs": [
        {
          "output_type": "execute_result",
          "data": {
            "text/plain": [
              "True"
            ]
          },
          "metadata": {},
          "execution_count": 66
        }
      ]
    },
    {
      "cell_type": "code",
      "source": [
        "S1.union(S2)"
      ],
      "metadata": {
        "colab": {
          "base_uri": "https://localhost:8080/"
        },
        "id": "oyfuvyiSfD2R",
        "outputId": "db0108bd-020b-499a-b2ca-11e40233dcdb"
      },
      "execution_count": 68,
      "outputs": [
        {
          "output_type": "execute_result",
          "data": {
            "text/plain": [
              "{20, 40, 50, 55, 60, 66, 70, 80, 90}"
            ]
          },
          "metadata": {},
          "execution_count": 68
        }
      ]
    },
    {
      "cell_type": "code",
      "source": [
        "S1.intersection(S2)"
      ],
      "metadata": {
        "colab": {
          "base_uri": "https://localhost:8080/"
        },
        "id": "8LwtkHeAfQXb",
        "outputId": "041d8d59-1f1c-4d97-9c02-eb9b9554b640"
      },
      "execution_count": 69,
      "outputs": [
        {
          "output_type": "execute_result",
          "data": {
            "text/plain": [
              "{40, 50, 60}"
            ]
          },
          "metadata": {},
          "execution_count": 69
        }
      ]
    },
    {
      "cell_type": "code",
      "source": [
        "S1-S2"
      ],
      "metadata": {
        "colab": {
          "base_uri": "https://localhost:8080/"
        },
        "id": "rLhk2GkPfWKS",
        "outputId": "10b41c68-648d-416f-c8ac-72b6d8db364f"
      },
      "execution_count": 70,
      "outputs": [
        {
          "output_type": "execute_result",
          "data": {
            "text/plain": [
              "{20, 55, 66}"
            ]
          },
          "metadata": {},
          "execution_count": 70
        }
      ]
    },
    {
      "cell_type": "code",
      "source": [
        "# Q4. Write the following program.\n",
        "# (i) WAP to print 100 random strings whose length between 6 and 8.\n",
        "# (ii) WAP to print all prime numbers between 600 and 800.\n",
        "# (iii) WAP to print all numbers between 100 and 1000 that are divisible by 7 and 9."
      ],
      "metadata": {
        "id": "VWhJHI3afjpD"
      },
      "execution_count": null,
      "outputs": []
    },
    {
      "cell_type": "code",
      "source": [
        "import random as r\n",
        "import string as s\n",
        "def gen():\n",
        "  l=s.ascii_letters+s.digits\n",
        "  x=r.randint(6,8)\n",
        "  n=\"\"\n",
        "  for i in range(x):\n",
        "    n+=\"\".join(r.choice(l))\n",
        "  return n\n",
        "for i in range(1,101):\n",
        "  n=gen()\n",
        "  print(n)"
      ],
      "metadata": {
        "colab": {
          "base_uri": "https://localhost:8080/"
        },
        "id": "WICAA4AXfknX",
        "outputId": "3002e0eb-b4ff-4ac7-aaeb-6d7750ed71a3"
      },
      "execution_count": 78,
      "outputs": [
        {
          "output_type": "stream",
          "name": "stdout",
          "text": [
            "hgigeSXr\n",
            "qclbyG\n",
            "WodaPd\n",
            "daBzgRf\n",
            "E2ssnoeD\n",
            "HLwfzZ\n",
            "KGNhFZ\n",
            "vXqNuP3F\n",
            "EXoARq\n",
            "kRG7QHg\n",
            "5GdbBz\n",
            "xqXj0vB\n",
            "YJQQWGh\n",
            "VWDIfqI\n",
            "wH13juWv\n",
            "0sXowr\n",
            "1uRwQ42e\n",
            "EvjkqUqS\n",
            "hvNpip\n",
            "ihWGpyY\n",
            "zE70SlN\n",
            "lL7us0LE\n",
            "U6ARdD6\n",
            "DuHQju\n",
            "EFas17\n",
            "OFewbLb\n",
            "1RyHfX\n",
            "qdcKFlp\n",
            "Hfzh70l\n",
            "TMdOqu\n",
            "cj6qBO\n",
            "apGLCF\n",
            "o6lpTL7N\n",
            "cH9Q4V\n",
            "1vLAOCE\n",
            "pTcnRBP\n",
            "MSRcBokm\n",
            "n29rJTzF\n",
            "gJpME2Ha\n",
            "j60lRu\n",
            "W9Zdzl\n",
            "XQfzTuQX\n",
            "Ln3Znj6\n",
            "X4mUYDcB\n",
            "bZcqP3I\n",
            "uvt3uBU\n",
            "39jWu9xl\n",
            "QrhHMa\n",
            "77RLqwp\n",
            "0DjvV9Y\n",
            "qh2nKc\n",
            "sUqFUBr\n",
            "fWckhPu\n",
            "Shm62EU2\n",
            "Iqfn6gzK\n",
            "NBtaKOhs\n",
            "rEimT0nS\n",
            "6PU8x6AO\n",
            "vjMLCK\n",
            "BAU8hX\n",
            "HBwFzb\n",
            "ibXGU7\n",
            "vyp1kd\n",
            "eAFeSM1Z\n",
            "4xhA74O\n",
            "bdTKKo\n",
            "XBXomw\n",
            "7VMR5aUl\n",
            "5K6eziy\n",
            "fN2bUb\n",
            "6CSQ4xns\n",
            "FSjtOwgd\n",
            "rGjJfC7\n",
            "GjzEqId\n",
            "yeTNGS\n",
            "8SbUY1yp\n",
            "aXIKy0v\n",
            "alhtiy8s\n",
            "uxHQX4y\n",
            "9LLEOA\n",
            "dU8Jd4\n",
            "KqVATlOL\n",
            "zgExqRX2\n",
            "h0clYW\n",
            "yb2N9A\n",
            "5puMTJ\n",
            "gO5UTA0\n",
            "EC8J4o\n",
            "jAs2VhSe\n",
            "1aZcxD\n",
            "oXGN3V\n",
            "DPJLWO\n",
            "NcP3U8\n",
            "zKq4fto\n",
            "f8SX0o\n",
            "5P0kKW\n",
            "YdtBUmqK\n",
            "kvM1xGn\n",
            "oIpdxACB\n",
            "CSLge5E\n"
          ]
        }
      ]
    },
    {
      "cell_type": "code",
      "source": [
        "def prime(n):\n",
        "  for i in range(2,n//2+1):\n",
        "    if(n%i==0):\n",
        "      return 0\n",
        "  return 1\n",
        "\n",
        "for i in range(600,801):\n",
        "  if(prime(i)):\n",
        "    print(i)"
      ],
      "metadata": {
        "colab": {
          "base_uri": "https://localhost:8080/"
        },
        "id": "Qe1eecFJjCep",
        "outputId": "af3f6963-7488-4d87-cc84-7fb58804c76e"
      },
      "execution_count": 79,
      "outputs": [
        {
          "output_type": "stream",
          "name": "stdout",
          "text": [
            "601\n",
            "607\n",
            "613\n",
            "617\n",
            "619\n",
            "631\n",
            "641\n",
            "643\n",
            "647\n",
            "653\n",
            "659\n",
            "661\n",
            "673\n",
            "677\n",
            "683\n",
            "691\n",
            "701\n",
            "709\n",
            "719\n",
            "727\n",
            "733\n",
            "739\n",
            "743\n",
            "751\n",
            "757\n",
            "761\n",
            "769\n",
            "773\n",
            "787\n",
            "797\n"
          ]
        }
      ]
    },
    {
      "cell_type": "code",
      "source": [
        "for i in range(100,1001):\n",
        "  if(i%7==0) and (i%9==0):\n",
        "    print(i)"
      ],
      "metadata": {
        "colab": {
          "base_uri": "https://localhost:8080/"
        },
        "id": "XHxv_mrcjhD7",
        "outputId": "28134851-99cd-47bf-893d-8f0d95c9aea9"
      },
      "execution_count": 80,
      "outputs": [
        {
          "output_type": "stream",
          "name": "stdout",
          "text": [
            "126\n",
            "189\n",
            "252\n",
            "315\n",
            "378\n",
            "441\n",
            "504\n",
            "567\n",
            "630\n",
            "693\n",
            "756\n",
            "819\n",
            "882\n",
            "945\n"
          ]
        }
      ]
    },
    {
      "cell_type": "code",
      "source": [
        "# Q5. WAP to create two lists of 10 random numbers between 10 and 30; Find \n",
        "# (i) Common numbers in the two lists\n",
        "# (ii) Unique numbers in both the list\n",
        "# (iii) Minimum in both the list\n",
        "# (iv) Maximum in both the list\n",
        "# (v) Sum of both the lists"
      ],
      "metadata": {
        "id": "sq5xFFWSkS99"
      },
      "execution_count": null,
      "outputs": []
    },
    {
      "cell_type": "code",
      "source": [
        "import random as r\n",
        "l1=[]\n",
        "l2=[]\n",
        "for i in range(10):\n",
        "  x=r.randint(10,30)\n",
        "  l1.append(x)\n",
        "\n",
        "for i in range(10):\n",
        "  x=r.randint(10,30)\n",
        "  l2.append(x)\n",
        "\n",
        "print (l1)\n",
        "print(l2)"
      ],
      "metadata": {
        "colab": {
          "base_uri": "https://localhost:8080/"
        },
        "id": "kWxkqS1ekYYM",
        "outputId": "c4892375-7722-4e2e-a799-78c9e440f337"
      },
      "execution_count": 82,
      "outputs": [
        {
          "output_type": "stream",
          "name": "stdout",
          "text": [
            "[17, 25, 15, 15, 16, 11, 23, 23, 13, 26]\n",
            "[23, 29, 11, 26, 15, 24, 13, 13, 30, 10]\n"
          ]
        }
      ]
    },
    {
      "cell_type": "code",
      "source": [
        "def common(n,l2):\n",
        "  for i in range(10):\n",
        "    if  n in l2:\n",
        "      return 1\n",
        "  return 0\n",
        "for i in range(10):\n",
        "  if common(l1[i],l2):\n",
        "    print(l1[i])  "
      ],
      "metadata": {
        "colab": {
          "base_uri": "https://localhost:8080/"
        },
        "id": "izmhqL8qsoMv",
        "outputId": "a20703aa-a643-4bb4-a043-c572953d28e5"
      },
      "execution_count": 86,
      "outputs": [
        {
          "output_type": "stream",
          "name": "stdout",
          "text": [
            "15\n",
            "15\n",
            "11\n",
            "23\n",
            "23\n",
            "13\n",
            "26\n"
          ]
        }
      ]
    },
    {
      "cell_type": "code",
      "source": [
        "def uni(n,l1):\n",
        "  x=0\n",
        "  for i in range(10):\n",
        "    if l1[i]==n:\n",
        "      x=x+1\n",
        "  if(x==1):\n",
        "    return 1\n",
        "  else:\n",
        "    return 0\n",
        "\n",
        "for i in range(10):\n",
        "  if uni(l1[i],l1):\n",
        "    print(l1[i])\n",
        "print(\"\\n\")\n",
        "    \n",
        "for i in range(10):\n",
        "  if uni(l2[i],l2):\n",
        "    print(l2[i])"
      ],
      "metadata": {
        "colab": {
          "base_uri": "https://localhost:8080/"
        },
        "id": "mlquq1QYuIJ0",
        "outputId": "ea493ac1-d630-479a-85ea-fd5b4cf55df2"
      },
      "execution_count": 88,
      "outputs": [
        {
          "output_type": "stream",
          "name": "stdout",
          "text": [
            "17\n",
            "25\n",
            "16\n",
            "11\n",
            "13\n",
            "26\n",
            "\n",
            "\n",
            "23\n",
            "29\n",
            "11\n",
            "26\n",
            "15\n",
            "24\n",
            "30\n",
            "10\n"
          ]
        }
      ]
    },
    {
      "cell_type": "code",
      "source": [
        "print(min(l1))\n",
        "print(min(l2))"
      ],
      "metadata": {
        "colab": {
          "base_uri": "https://localhost:8080/"
        },
        "id": "OSucKehtvDgG",
        "outputId": "b1307db9-476b-4518-e857-651a2268b067"
      },
      "execution_count": 89,
      "outputs": [
        {
          "output_type": "stream",
          "name": "stdout",
          "text": [
            "11\n",
            "10\n"
          ]
        }
      ]
    },
    {
      "cell_type": "code",
      "source": [
        "print(max(l1))\n",
        "print(max(l2))"
      ],
      "metadata": {
        "colab": {
          "base_uri": "https://localhost:8080/"
        },
        "id": "tHqhNk4PvN99",
        "outputId": "ee8d6eb6-b074-48e1-a22c-803ee7902b15"
      },
      "execution_count": 90,
      "outputs": [
        {
          "output_type": "stream",
          "name": "stdout",
          "text": [
            "26\n",
            "30\n"
          ]
        }
      ]
    },
    {
      "cell_type": "code",
      "source": [
        "x=sum(l1)\n",
        "y=sum(l2)\n",
        "print(\"both sum\",x+y)"
      ],
      "metadata": {
        "colab": {
          "base_uri": "https://localhost:8080/"
        },
        "id": "SeFE7NjzvRiL",
        "outputId": "533b9191-8f2c-4a91-97d1-fbbb3cfcd32d"
      },
      "execution_count": 92,
      "outputs": [
        {
          "output_type": "stream",
          "name": "stdout",
          "text": [
            "both sum 378\n"
          ]
        }
      ]
    },
    {
      "cell_type": "code",
      "source": [
        "# Q6. WAP to create a list of 100 random numbers between 100 and 900. Count and print the: \n",
        "# (i) All odd numbers\n",
        "# (ii) All even numbers\n",
        "# (iii) All prime numbers"
      ],
      "metadata": {
        "id": "kUJpblJfvfIF"
      },
      "execution_count": null,
      "outputs": []
    },
    {
      "cell_type": "code",
      "source": [
        "import random as r\n",
        "l=[]\n",
        "for i in range(100):\n",
        "  x=r.randint(100,900)\n",
        "  l.append(x)\n",
        "print(l)"
      ],
      "metadata": {
        "colab": {
          "base_uri": "https://localhost:8080/"
        },
        "id": "qHAgOcIBvhU0",
        "outputId": "c515602a-f9f0-467a-a869-5414fd6e8b62"
      },
      "execution_count": 93,
      "outputs": [
        {
          "output_type": "stream",
          "name": "stdout",
          "text": [
            "[438, 855, 245, 713, 861, 650, 101, 203, 305, 154, 482, 159, 119, 401, 480, 875, 190, 118, 851, 105, 723, 295, 119, 611, 154, 361, 101, 212, 106, 746, 680, 324, 312, 429, 284, 388, 830, 293, 546, 202, 294, 446, 885, 344, 388, 416, 143, 646, 325, 414, 512, 692, 501, 145, 665, 196, 632, 642, 633, 148, 802, 104, 584, 470, 467, 882, 468, 736, 736, 355, 156, 745, 563, 215, 603, 624, 506, 593, 344, 617, 629, 705, 671, 738, 467, 579, 248, 461, 639, 211, 223, 243, 279, 115, 432, 576, 594, 383, 797, 660]\n"
          ]
        }
      ]
    },
    {
      "cell_type": "code",
      "source": [
        "def odd(n):\n",
        "  if n%2==0:\n",
        "    return 0\n",
        "  return 1\n",
        "e=0\n",
        "o=0\n",
        "se=0\n",
        "so=0\n",
        "for i in range(100):\n",
        "  if(odd(l[i])):\n",
        "    o=o+1\n",
        "    so+=l[i]\n",
        "  else:\n",
        "    e=e+1\n",
        "    se+=l[i]\n",
        "print(\"total even no. is \",e,\" and sum is \",se)\n",
        "print(\"total odd no. is \",o,\" and sum is \",so)"
      ],
      "metadata": {
        "colab": {
          "base_uri": "https://localhost:8080/"
        },
        "id": "Sy_awo-Zv0zU",
        "outputId": "9a40f531-5c20-435f-8911-663652d2f507"
      },
      "execution_count": 95,
      "outputs": [
        {
          "output_type": "stream",
          "name": "stdout",
          "text": [
            "total even no. is  50  and sum is  22726\n",
            "total odd no. is  50  and sum is  22582\n"
          ]
        }
      ]
    },
    {
      "cell_type": "code",
      "source": [
        "def prime(n):\n",
        "  for i in range(2,n//2+1):\n",
        "    if(n%i==0):\n",
        "      return 0\n",
        "  return 1\n",
        "\n",
        "for i in l:\n",
        "  if(prime(i)):\n",
        "    print(i)"
      ],
      "metadata": {
        "colab": {
          "base_uri": "https://localhost:8080/"
        },
        "id": "1KRxLJbtwpg6",
        "outputId": "5992eea9-9b19-431f-d009-d6f6c9864cfd"
      },
      "execution_count": 96,
      "outputs": [
        {
          "output_type": "stream",
          "name": "stdout",
          "text": [
            "101\n",
            "401\n",
            "101\n",
            "293\n",
            "467\n",
            "563\n",
            "593\n",
            "617\n",
            "467\n",
            "461\n",
            "211\n",
            "223\n",
            "383\n",
            "797\n"
          ]
        }
      ]
    },
    {
      "cell_type": "code",
      "source": [
        "# Q7. D is a dictionary defined as D={1:\"One\",2:\"Two\",3:\"Three\",4:\"Four\", 5:\"Five\"}. \n",
        "#  WAP to read all the keys and values from dictionary and write to the file in the given below format.\n",
        "# Key1, Value1\n",
        "# Key2, Value2\n",
        "# Key3, Value3"
      ],
      "metadata": {
        "id": "eqEOVW_jw72h"
      },
      "execution_count": null,
      "outputs": []
    },
    {
      "cell_type": "code",
      "source": [
        "D={1:\"One\",2:\"Two\",3:\"Three\",4:\"Four\", 5:\"Five\"}\n",
        "f=open(\"p1-7.txt\",\"w\")\n",
        "for i in D:\n",
        "  f.write(str(i))\n",
        "  f.write(\",\")\n",
        "  f.write(D[i])"
      ],
      "metadata": {
        "id": "PWUU_XU4w-tl"
      },
      "execution_count": 102,
      "outputs": []
    },
    {
      "cell_type": "code",
      "source": [
        "# Q8. L is a list defined as L={\"One\",\"Two\",\"Three\",\"Four\",\"Five\"}.\n",
        "#  WAP to count the length of reach element from a list and write to the file in the given below format:\n",
        "# One, 3\n",
        "# Two, 3\n",
        "# Four, 4"
      ],
      "metadata": {
        "id": "5dmEWvbiyVyq"
      },
      "execution_count": null,
      "outputs": []
    },
    {
      "cell_type": "code",
      "source": [
        "l=[\"One\",\"Two\",\"Three\",\"Four\",\"Five\"]\n",
        "f=open(\"p1-8.txt\",\"w\")\n",
        "for i in l:\n",
        "  f.write(i)\n",
        "  f.write(\",\")\n",
        "  f.write(str(len(i)))"
      ],
      "metadata": {
        "id": "DtlGUtGsyacm"
      },
      "execution_count": 105,
      "outputs": []
    },
    {
      "cell_type": "code",
      "source": [
        "# Q9. Write to the file 100 random strings whose length between 10 and 15."
      ],
      "metadata": {
        "id": "zf-SASgBy_pF"
      },
      "execution_count": null,
      "outputs": []
    },
    {
      "cell_type": "code",
      "source": [
        "import random as r\n",
        "import string as s\n",
        "f=open(\"p1-9.txt\",\"w\")\n",
        "def gen():\n",
        "  l=s.ascii_letters+s.digits\n",
        "  x=r.randint(10,15)\n",
        "  n=\"\"\n",
        "  for i in range(x):\n",
        "    n+=\"\".join(r.choice(l))\n",
        "  return n\n",
        "for i in range(1,101):\n",
        "  n=gen()\n",
        "  f.write(n)\n",
        "  f.write(\" \")"
      ],
      "metadata": {
        "id": "Z7BucmlvzCCS"
      },
      "execution_count": 107,
      "outputs": []
    },
    {
      "cell_type": "code",
      "source": [
        "# Q10. Write to the file all prime numbers between 600 and 800."
      ],
      "metadata": {
        "id": "1BeWTr9jzqo_"
      },
      "execution_count": null,
      "outputs": []
    },
    {
      "cell_type": "code",
      "source": [
        "def prime(n):\n",
        "  for i in range(2,n//2+1):\n",
        "    if(n%i==0):\n",
        "      return 0\n",
        "  return 1\n",
        "f=open(\"p1-10.txt\",'w')\n",
        "for i in range(600,801):\n",
        "  if(prime(i)):\n",
        "    f.write(str(i))\n",
        "    f.write(\" \")"
      ],
      "metadata": {
        "id": "dX40b7Ttzrz5"
      },
      "execution_count": 109,
      "outputs": []
    },
    {
      "cell_type": "code",
      "source": [
        "# Q11. WAP to calculate the time taken by a program."
      ],
      "metadata": {
        "id": "4mrdaPkm0EQ8"
      },
      "execution_count": null,
      "outputs": []
    },
    {
      "cell_type": "code",
      "source": [
        "import time\n",
        "begin = time.time()\n",
        "\n",
        "for i in range(5):\n",
        "    print(i)\n",
        "\n",
        " \n",
        "time.sleep(1)\n",
        "end = time.time()\n",
        "t=b=end-begin\n",
        "print(\"Total time\",t)"
      ],
      "metadata": {
        "colab": {
          "base_uri": "https://localhost:8080/"
        },
        "id": "jbDdo8nt0NN7",
        "outputId": "f0b5e6b5-a821-4a14-c435-bb9a148e2bcf"
      },
      "execution_count": 110,
      "outputs": [
        {
          "output_type": "stream",
          "name": "stdout",
          "text": [
            "0\n",
            "1\n",
            "2\n",
            "3\n",
            "4\n",
            "Total time 1.0054757595062256\n"
          ]
        }
      ]
    },
    {
      "cell_type": "code",
      "source": [
        "# Q13. WAP to create a dictionary of student marks in five subjects and you have to find the student \n",
        "#  having maximum and minimum average marks."
      ],
      "metadata": {
        "id": "9sYnkbnu0IUj"
      },
      "execution_count": null,
      "outputs": []
    },
    {
      "cell_type": "code",
      "source": [
        "student_marks = {\n",
        "    \"A\": [85, 90, 92, 88, 95],\n",
        "    \"B\": [76, 85, 90, 82, 80],\n",
        "    \"C\": [92, 88, 95, 90, 94],\n",
        "    \"D\": [80, 82, 85, 88, 76],\n",
        "    \"E\": [90, 92, 88, 95, 82]\n",
        "}\n",
        "\n",
        "average_marks = {student: sum(marks) / len(marks) for student, marks in student_marks.items()}\n",
        "\n",
        "\n",
        "max_student = max(average_marks, key=average_marks.get)\n",
        "min_student = min(average_marks, key=average_marks.get)\n",
        "\n",
        "print(\"Student with maximum average marks:\", max_student)\n",
        "print(\"Student with minimum average marks:\", min_student)"
      ],
      "metadata": {
        "colab": {
          "base_uri": "https://localhost:8080/"
        },
        "id": "vAXHDlBV0OCi",
        "outputId": "f06c5e64-a450-4fd5-90be-350eba289222"
      },
      "execution_count": 111,
      "outputs": [
        {
          "output_type": "stream",
          "name": "stdout",
          "text": [
            "Student with maximum average marks: C\n",
            "Student with minimum average marks: D\n"
          ]
        }
      ]
    }
  ]
}